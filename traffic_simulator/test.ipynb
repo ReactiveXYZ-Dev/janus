{
 "cells": [
  {
   "cell_type": "code",
   "execution_count": 4,
   "metadata": {},
   "outputs": [],
   "source": [
    "# load data\n",
    "parent_dir = \"../trace/data/8-12-0.3-400-compressed/\"\n",
    "# parent_dir = \"./trace/data/sample/\"\n",
    "data_path = f'{parent_dir}/traffic.data'\n",
    "index_path = f'{parent_dir}/traffic.index'"
   ]
  },
  {
   "cell_type": "code",
   "execution_count": 5,
   "metadata": {},
   "outputs": [
    {
     "output_type": "stream",
     "name": "stdout",
     "text": "400\n"
    }
   ],
   "source": [
    "# read traffic data index\n",
    "from ctypes import *\n",
    "from struct import *\n",
    "indexes = []\n",
    "indexes_raw = None\n",
    "with open(index_path, 'rb') as index_file:\n",
    "    indexes_raw = index_file.read()\n",
    "    num_indexes = unpack('Q', indexes_raw[:sizeof(c_uint64())])\n",
    "    print(num_indexes[0])\n",
    "    indexes_raw = indexes_raw[sizeof(c_uint64()):]\n",
    "    for v in iter_unpack('QqQ', indexes_raw):\n",
    "        indexes.append(v)"
   ]
  },
  {
   "cell_type": "code",
   "execution_count": 6,
   "metadata": {},
   "outputs": [],
   "source": [
    "# read traffic data data\n",
    "data_raw = open(data_path, 'rb').read()"
   ]
  },
  {
   "cell_type": "code",
   "execution_count": 7,
   "metadata": {},
   "outputs": [],
   "source": [
    "NUM_PODS = 8\n",
    "NUM_TORS_PER_POD = 12\n",
    "NUM_TORS = NUM_PODS * NUM_TORS_PER_POD\n",
    "# @REFER_TO: networks/jupiter.c:jupiter_get_dataplane\n",
    "NUM_PAIRS = NUM_TORS ** 2"
   ]
  },
  {
   "cell_type": "code",
   "execution_count": 8,
   "metadata": {},
   "outputs": [],
   "source": [
    "import numpy as np\n",
    "from math import sqrt\n",
    "\n",
    "def get_traffic_matrix(indexes, raw_data, t):\n",
    "    seek, _, size = [i for i in indexes if i[1] == t][0]\n",
    "    raw_data = raw_data[seek:seek+size]\n",
    "    struct_size = 16\n",
    "    values = [v[0] for v in iter_unpack('f', raw_data[struct_size:])]\n",
    "    N = int(sqrt(len(values)))\n",
    "    assert (N*N == len(values))\n",
    "    return np.array(values).reshape((N, N))"
   ]
  },
  {
   "cell_type": "code",
   "execution_count": 9,
   "metadata": {},
   "outputs": [
    {
     "output_type": "stream",
     "name": "stdout",
     "text": "[[   0.    0.    0. ...    0.    0.    0.]\n [   0.    0.    0. ...    0.    0.    0.]\n [   0.    0.    0. ... 5304.    0. 4314.]\n ...\n [ 216.    0.    0. ...    0.    0. 4208.]\n [   0.    0.    0. ...    0.    0.    0.]\n [   0.    0.    0. ...    0.  480.    0.]]\n"
    }
   ],
   "source": [
    "M = get_traffic_matrix(indexes, data_raw, 1)\n",
    "print(M)"
   ]
  },
  {
   "cell_type": "code",
   "execution_count": 16,
   "metadata": {},
   "outputs": [
    {
     "output_type": "stream",
     "name": "stdout",
     "text": "51.158581036905424\n57.31056304497754\n58.55079185125081\n59.07492845454708\n60.396292844806176\n60.396292844806176\n61.260939194965815\n61.260939194965815\n61.260939194965815\n61.260939194965815\n61.260939194965815\n61.260939194965815\n61.260939194965815\n61.260939194965815\n61.260939194965815\n61.260939194965815\n61.260939194965815\n61.260939194965815\n61.260939194965815\n61.260939194965815\n"
    }
   ],
   "source": [
    "from math import log\n",
    "maxt = 0\n",
    "for t in range(400):\n",
    "    maxt = max(maxt, log(np.max(get_traffic_matrix(indexes, data_raw, t)), 1.3))\n",
    "    if not t % 20:\n",
    "        print(maxt)\n",
    "\n",
    "#TODO: how to simulate such large traffic?"
   ]
  },
  {
   "cell_type": "code",
   "execution_count": null,
   "metadata": {},
   "outputs": [],
   "source": []
  }
 ],
 "metadata": {
  "kernelspec": {
   "display_name": "Python 3",
   "language": "python",
   "name": "python3"
  },
  "language_info": {
   "codemirror_mode": {
    "name": "ipython",
    "version": 3
   },
   "file_extension": ".py",
   "mimetype": "text/x-python",
   "name": "python",
   "nbconvert_exporter": "python",
   "pygments_lexer": "ipython3",
   "version": "3.8.3-final"
  }
 },
 "nbformat": 4,
 "nbformat_minor": 2
}